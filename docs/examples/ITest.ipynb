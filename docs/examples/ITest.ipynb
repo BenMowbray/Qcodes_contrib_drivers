{
 "metadata": {
  "nbsphinx": {
   "execute": "never"
  },
  "language_info": {
   "codemirror_mode": {
    "name": "ipython",
    "version": 3
   },
   "file_extension": ".py",
   "mimetype": "text/x-python",
   "name": "python",
   "nbconvert_exporter": "python",
   "pygments_lexer": "ipython3",
   "version": "3.8.3-final"
  },
  "orig_nbformat": 2,
  "kernelspec": {
   "name": "Python 3.8.3 64-bit ('base': conda)",
   "display_name": "Python 3.8.3 64-bit ('base': conda)",
   "metadata": {
    "interpreter": {
     "hash": "04a291d3d47d4de40481f20ec3463187616b5eceabad1549fe24b847b2edd3ef"
    }
   }
  }
 },
 "nbformat": 4,
 "nbformat_minor": 2,
 "cells": [
  {
   "cell_type": "markdown",
   "metadata": {},
   "source": [
    "# Example with the iTest from Bilt"
   ]
  },
  {
   "cell_type": "markdown",
   "metadata": {},
   "source": [
    "## Import"
   ]
  },
  {
   "cell_type": "code",
   "execution_count": 1,
   "metadata": {
    "tags": []
   },
   "outputs": [],
   "source": [
    "import qcodes as qc\n",
    "from qcodes_contrib_drivers.drivers.Bilt.ITest import ITest"
   ]
  },
  {
   "cell_type": "markdown",
   "metadata": {},
   "source": [
    "## Load instrument\n",
    "\n",
    "Here the import is done by USB"
   ]
  },
  {
   "cell_type": "code",
   "execution_count": 2,
   "metadata": {
    "tags": []
   },
   "outputs": [
    {
     "output_type": "stream",
     "name": "stdout",
     "text": "Connected to: 2142 \"ITEST BE2142B/12V 15mA DC-SOURCE/SN04-016 LC1846 VL446\\240\" (serial:None, firmware:None) in 0.39s\n"
    }
   ],
   "source": [
    "dac = ITest(name='dac',\n",
    "            address='ASRL4::INSTR',\n",
    "            init_start=True)"
   ]
  },
  {
   "cell_type": "markdown",
   "metadata": {},
   "source": [
    "## Initiallization"
   ]
  },
  {
   "cell_type": "code",
   "execution_count": 3,
   "metadata": {
    "tags": []
   },
   "outputs": [],
   "source": [
    "for channel in dac.channels:\n",
    "    channel.v(0)"
   ]
  },
  {
   "cell_type": "markdown",
   "metadata": {},
   "source": [
    "## Measurement"
   ]
  },
  {
   "source": [
    "User can loop over the channel"
   ],
   "cell_type": "markdown",
   "metadata": {}
  },
  {
   "cell_type": "code",
   "execution_count": 4,
   "metadata": {
    "tags": []
   },
   "outputs": [
    {
     "output_type": "stream",
     "name": "stdout",
     "text": "channel 1 voltage 9.92e-07 V\nchannel 2 voltage -9.61e-07 V\nchannel 3 voltage 3.13e-07 V\nchannel 4 voltage 3.26e-07 V\nchannel 5 voltage 5.00e-01 V\nchannel 6 voltage -5.21e-07 V\nchannel 7 voltage -9.91e-07 V\nchannel 8 voltage -1.26e-07 V\nchannel 9 voltage 3.86e-07 V\nchannel 10 voltage 4.79e-07 V\nchannel 11 voltage 3.42e-07 V\nchannel 12 voltage -2.14e-07 V\nchannel 13 voltage 3.36e-07 V\nchannel 14 voltage -1.11e-07 V\nchannel 15 voltage -7.52e-07 V\nchannel 16 voltage -5.40e-07 V\n"
    }
   ],
   "source": [
    "for channel in dac.channels:\n",
    "    print('channel {} voltage {:.2e} V'.format(channel.chan_num, channel.v()))"
   ]
  },
  {
   "source": [
    "We can set a voltage on a specific channel but without trigger the voltage is not output."
   ],
   "cell_type": "markdown",
   "metadata": {}
  },
  {
   "cell_type": "code",
   "execution_count": 5,
   "metadata": {
    "tags": []
   },
   "outputs": [
    {
     "output_type": "execute_result",
     "data": {
      "text/plain": "(None, 3.2574099e-07)"
     },
     "metadata": {},
     "execution_count": 5
    }
   ],
   "source": [
    "dac.ch04.v(0.5), dac.ch04.v()"
   ]
  },
  {
   "source": [
    "A shortcut is available to set and trigger a channel."
   ],
   "cell_type": "markdown",
   "metadata": {}
  },
  {
   "cell_type": "code",
   "execution_count": 6,
   "metadata": {},
   "outputs": [
    {
     "output_type": "execute_result",
     "data": {
      "text/plain": "(None, 0.50000073)"
     },
     "metadata": {},
     "execution_count": 6
    }
   ],
   "source": [
    "dac.ch04.v_and_trig(0.05), dac.ch04.v()"
   ]
  }
 ]
}