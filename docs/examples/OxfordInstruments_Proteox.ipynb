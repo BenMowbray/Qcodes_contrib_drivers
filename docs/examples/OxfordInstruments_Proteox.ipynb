{
 "cells": [
  {
   "cell_type": "markdown",
   "id": "0053b22b",
   "metadata": {},
   "source": [
    "![li_banner_1_blue.png](./OI_images/li_banner_1_blue.png)\n",
    "\n",
    "# Proteox system integration with QCoDeS\n",
    "\n",
    "The Proteox is controlled with the `oi.DECS` system control software.  This is designed to operate in an asynchronous fashion using WebSockets.\n",
    "\n",
    "`QCoDeS` works well for `VISA` instruments that generally have synchronous behaviour.\n",
    "\n",
    "It is possible to the `WAMP` messaging protocol directly from QCoDeS, but for simple (single threaded) instrument drivers that can result in time-out issues if the communication channel is unactive for some time.\n",
    "\n",
    "An alternative approach is to make `oi.DECS` 'look like' a standard `VISA` instrument, and that approach is described below.\n",
    "\n",
    "## DECS<->VISA\n",
    "\n",
    "To accomplish this, a simple socket server (launched *via* `decs_visa.py`) is inserted between `QCoDeS` and `oi.DECS`.  A pair of queues objects are provided for inter-process communication between the socket server and the `WAMP` interface to the Proteox.\n",
    "\n",
    "![DECS_VISA_img.PNG](./OI_images/DECS_VISA.jpg)"
   ]
  },
  {
   "cell_type": "markdown",
   "id": "b9d4df11",
   "metadata": {},
   "source": [
    "# Example of Proteox Control using QCoDeS driver\n",
    "\n",
    "First, import the required python packages and Proteox oi.DECS QCoDeS driver, starting logging and create a Station."
   ]
  },
  {
   "cell_type": "code",
   "execution_count": 1,
   "id": "bc273d87",
   "metadata": {},
   "outputs": [
    {
     "name": "stdout",
     "output_type": "stream",
     "text": [
      "Logging hadn't been started.\n",
      "Activating auto-logging. Current session state plus future input saved.\n",
      "Filename       : C:\\Users\\abi.graham\\.qcodes\\logs\\command_history.log\n",
      "Mode           : append\n",
      "Output logging : True\n",
      "Raw input log  : False\n",
      "Timestamping   : True\n",
      "State          : active\n",
      "Qcodes Logfile : C:\\Users\\abi.graham\\.qcodes\\logs\\240226-13388-qcodes.log\n"
     ]
    }
   ],
   "source": [
    "import logging\n",
    "import sys\n",
    "\n",
    "import qcodes as qc\n",
    "from qcodes.logger.logger import start_all_logging\n",
    "\n",
    "sys.path.append(\"../../src/qcodes_contrib_drivers/drivers/OxfordInstruments/\")\n",
    "from Proteox import oiDECS\n",
    "\n",
    "start_all_logging()\n",
    "log = logging.getLogger()\n",
    "\n",
    "station = qc.Station()"
   ]
  },
  {
   "cell_type": "markdown",
   "id": "21d60a3e",
   "metadata": {},
   "source": [
    "**Initialise connection to oi.DECS software/Proteox.**"
   ]
  },
  {
   "cell_type": "code",
   "execution_count": 2,
   "id": "8222587b",
   "metadata": {},
   "outputs": [
    {
     "name": "stdout",
     "output_type": "stream",
     "text": [
      "Running on Windows-10-10.0.19045-SP0 - start subprocess without PIPEd output\n",
      "Connected to: Oxford Instruments oi:DECS (serial:decs-506c7d, firmware:0.6.0.2624) in 0.26s\n"
     ]
    }
   ],
   "source": [
    "try:\n",
    "    Proteox = oiDECS('Proteox')\n",
    "    Proteox.timeout(15)\n",
    "except Exception as err:\n",
    "    log.critical(err)\n",
    "    print(f'Connection failed: {err}')"
   ]
  },
  {
   "cell_type": "markdown",
   "id": "9fee190d",
   "metadata": {},
   "source": [
    "**Add Proteox to QCoDeS station and print readable snapshot of cryostat.**"
   ]
  },
  {
   "cell_type": "code",
   "execution_count": 3,
   "id": "262f4834",
   "metadata": {},
   "outputs": [
    {
     "name": "stdout",
     "output_type": "stream",
     "text": [
      "Proteox:\n",
      "\tparameter                  value\n",
      "--------------------------------------------------------------------------------\n",
      "Cold_Plate_Temperature      :\t0 (K)\n",
      "IDN                         :\t{'vendor': 'Oxford Instruments', 'model': 'oi:D...\n",
      "Magnet_Current_Vector       :\t(0.0, 0.0, -0.0116) (('A', 'A', 'A'))\n",
      "Magnet_State                :\tHolding Persistent \n",
      "Magnet_Temperature          :\t813.1 (K)\n",
      "Magnetic_Field_Vector       :\t(0.0, 0.0, 0.0) (('T', 'T', 'T'))\n",
      "Mixing_Chamber_Heater_Power :\t0 (W)\n",
      "Mixing_Chamber_Temperature  :\t0 (K)\n",
      "OVC_Pressure                :\t2440 (Pa)\n",
      "P1_Pressure                 :\t87013 (Pa)\n",
      "P2_Pressure                 :\t171 (Pa)\n",
      "P3_Pressure                 :\t430 (Pa)\n",
      "P4_Pressure                 :\t33656 (Pa)\n",
      "P5_Pressure                 :\t34647 (Pa)\n",
      "P6_Pressure                 :\t451.9 (Pa)\n",
      "PT1_Head_Temperature        :\t294.3 (K)\n",
      "PT1_Plate_Temperature       :\t294.24 (K)\n",
      "PT2_Head_Temperature        :\t294.01 (K)\n",
      "PT2_Plate_Temperature       :\t294.03 (K)\n",
      "Sorb_Temperature            :\t177.14 (K)\n",
      "Still_Heater_Power          :\t0 (W)\n",
      "Still_Plate_Temperature     :\t179.44 (K)\n",
      "timeout                     :\t15 (s)\n"
     ]
    }
   ],
   "source": [
    "station.add_component(Proteox)\n",
    "Proteox.print_readable_snapshot()"
   ]
  },
  {
   "cell_type": "markdown",
   "id": "9db72d10",
   "metadata": {},
   "source": [
    "**Read Parameters**"
   ]
  },
  {
   "cell_type": "code",
   "execution_count": 4,
   "id": "6afc30ed",
   "metadata": {},
   "outputs": [
    {
     "data": {
      "text/plain": [
       "293.9055"
      ]
     },
     "execution_count": 4,
     "metadata": {},
     "output_type": "execute_result"
    }
   ],
   "source": [
    "Proteox.PT2_Plate_Temperature()"
   ]
  },
  {
   "cell_type": "code",
   "execution_count": 5,
   "id": "028e2f2f",
   "metadata": {},
   "outputs": [
    {
     "data": {
      "text/plain": [
       "(0.0, 0.0, 0.0)"
      ]
     },
     "execution_count": 5,
     "metadata": {},
     "output_type": "execute_result"
    }
   ],
   "source": [
    "Proteox.Magnetic_Field_Vector()"
   ]
  },
  {
   "cell_type": "code",
   "execution_count": 6,
   "id": "2759ade4",
   "metadata": {},
   "outputs": [
    {
     "data": {
      "text/plain": [
       "0.0"
      ]
     },
     "execution_count": 6,
     "metadata": {},
     "output_type": "execute_result"
    }
   ],
   "source": [
    "Proteox.Magnetic_Field_Vector()[2]"
   ]
  },
  {
   "cell_type": "markdown",
   "id": "6bd11ddf",
   "metadata": {},
   "source": [
    "# Magnet Control"
   ]
  },
  {
   "cell_type": "code",
   "execution_count": 7,
   "id": "0510d6a8",
   "metadata": {},
   "outputs": [
    {
     "data": {
      "text/plain": [
       "'Holding Persistent'"
      ]
     },
     "execution_count": 7,
     "metadata": {},
     "output_type": "execute_result"
    }
   ],
   "source": [
    "Proteox.Magnet_State()"
   ]
  },
  {
   "cell_type": "markdown",
   "id": "e34cc951",
   "metadata": {},
   "source": [
    "**Set target field value and ramp rate.** \n",
    "\n",
    "````python\n",
    "set_magnet_target(\n",
    "  Coordinate_system : int, \n",
    "  X_feild_value : float, \n",
    "  Y_field_value : float, \n",
    "  Z_field_value : float, \n",
    "  Sweep_mode : str, \n",
    "  Sweep_rate : float \n",
    ")\n",
    "````\n",
    "\n",
    "Options for coordinate system are:  \n",
    "\n",
    "  0 - Cartesian (X,Y,Z)  \n",
    "  10 - Cylinderical (Rho, Phi, Z)  \n",
    "  20 - Sphereical (R,Theta,Phi)  \n",
    "\n",
    "For a solenoid magnet X_field_value and Y_field_value should be set to zero.\n",
    "\n",
    "Options for Sweep_mode (and Sweep_rate) are: \n",
    " \n",
    "  'ASAP' (Sweep_rate is ignored. Can be any float)  \n",
    "  'TIME' (Sweep_rate = time in minutes)   \n",
    "  'RATE' (Sweep_rate = rate in T/min)   "
   ]
  },
  {
   "cell_type": "code",
   "execution_count": 3,
   "id": "6a6fd845",
   "metadata": {},
   "outputs": [
    {
     "name": "stderr",
     "output_type": "stream",
     "text": [
      "2024-01-18 13:23:01,578 - INFO - Error parsing response: Length of data record inconsistent with record type\n"
     ]
    }
   ],
   "source": [
    "#for z-solenoid magnet set target field to 0.1 T and sweep rate to 0.25 T/min.\n",
    "Proteox.set_magnet_target(0,0,0,0.1,'RATE',0.25)\n",
    "\n",
    "#If running with oi.DECS firmware =< 0.5.1, ingore the error \"Error parsing response: Length of data record inconsistent with record type\". The magnet field target should have still been set. Check the GUI.\n",
    "#You will recieve this error because the data sent back from oi.DECS won't be handled correctly for firmware versions =< 0.5.1."
   ]
  },
  {
   "cell_type": "markdown",
   "id": "0ae49d75",
   "metadata": {},
   "source": [
    "Sweep the field. Then wait until Magnet status has gone back to 'Holding Not Persistent'."
   ]
  },
  {
   "cell_type": "code",
   "execution_count": null,
   "id": "4713295d",
   "metadata": {},
   "outputs": [],
   "source": [
    "Proteox.sweep_field()\n",
    "Proteox.wait_until_field_stable()"
   ]
  },
  {
   "cell_type": "markdown",
   "id": "a0a10249",
   "metadata": {},
   "source": [
    "For high resolution field sweeps, set field as normal, then use the `sweep_small_field_step` function."
   ]
  },
  {
   "cell_type": "code",
   "execution_count": null,
   "id": "0d7b0945",
   "metadata": {},
   "outputs": [],
   "source": [
    "Proteox.set_magnet_target(0,0,0,0.005,'ASAP',0.25)\n",
    "Proteox.sweep_small_field_step('Z')\n",
    "\n",
    "# You can only ramp one sub-group (X,Y or Z) at a time.\n",
    "# When ramping the VRM subgroup the GUI will continue to show the VRM status as ‘Holding Not Persistent’ but the iPS will ramp the current to your field set point.\n",
    "# The field value displayed on the GUI always rounds to 2 decimal places, but if you use the API to ask for the field value, it gives you the correct more precise value."
   ]
  },
  {
   "cell_type": "code",
   "execution_count": 3,
   "id": "ed57a36a",
   "metadata": {},
   "outputs": [],
   "source": [
    "Proteox.close()"
   ]
  },
  {
   "cell_type": "markdown",
   "id": "c49745fd",
   "metadata": {},
   "source": [
    "![image_test](./OI_images/nanoscience.png)"
   ]
  },
  {
   "cell_type": "markdown",
   "id": "acfd92ca",
   "metadata": {},
   "source": []
  }
 ],
 "metadata": {
  "kernelspec": {
   "display_name": "Python 3 (ipykernel)",
   "language": "python",
   "name": "python3"
  },
  "language_info": {
   "codemirror_mode": {
    "name": "ipython",
    "version": 3
   },
   "file_extension": ".py",
   "mimetype": "text/x-python",
   "name": "python",
   "nbconvert_exporter": "python",
   "pygments_lexer": "ipython3",
   "version": "3.11.4"
  }
 },
 "nbformat": 4,
 "nbformat_minor": 5
}
