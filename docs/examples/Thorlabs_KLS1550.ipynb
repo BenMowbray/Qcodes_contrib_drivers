{
 "cells": [
  {
   "cell_type": "markdown",
   "id": "fifteen-voluntary",
   "metadata": {},
   "source": [
    "# QCoDeS example with Thorlabs KLS1550 laser source\n",
    "(same .dll as for KLS101, KLSnnn)"
   ]
  },
  {
   "cell_type": "markdown",
   "id": "overall-velvet",
   "metadata": {},
   "source": [
    "## Initialisation\n",
    "Import all required libraries for driving the devices."
   ]
  },
  {
   "cell_type": "code",
   "execution_count": 1,
   "id": "failing-acquisition",
   "metadata": {},
   "outputs": [],
   "source": [
    "import qcodes as qc\n",
    "from qcodes_contrib_drivers.drivers.Thorlabs.Kinesis import Thorlabs_Kinesis\n",
    "from qcodes_contrib_drivers.drivers.Thorlabs.KLS1550 import Thorlabs_KLS1550"
   ]
  },
  {
   "cell_type": "markdown",
   "id": "premium-batman",
   "metadata": {},
   "source": [
    "Create an instance of `Thorlabs_Kinesis` which is a wrapper for the device dll (passed as an argument to the object) that starts up the Kinesis server."
   ]
  },
  {
   "cell_type": "code",
   "execution_count": null,
   "id": "executive-percentage",
   "metadata": {},
   "outputs": [],
   "source": [
    "kinesis = Thorlabs_Kinesis(\"Thorlabs.MotionControl.KCube.LaserSource.dll\", sim=False)\n",
    "print(kinesis.device_list())"
   ]
  },
  {
   "cell_type": "markdown",
   "id": "israeli-functionality",
   "metadata": {},
   "source": [
    "Create an instance of `Thorlabs_KLS1550` which is the device driver object, opening the device and starting polling (requesting device information) at 200 milisecods loops (must know the serial number shown on the device)."
   ]
  },
  {
   "cell_type": "code",
   "execution_count": null,
   "id": "modern-capital",
   "metadata": {},
   "outputs": [],
   "source": [
    "qc.Instrument.close_all()\n",
    "laser = Thorlabs_KLS1550(\n",
    "    name=\"laser\",\n",
    "    serial_number=\"...\",\n",
    "    polling_speed=200, \n",
    "    kinesis=kinesis)"
   ]
  },
  {
   "cell_type": "markdown",
   "id": "periodic-democracy",
   "metadata": {},
   "source": [
    "## Turning the laser output on/off\n",
    "Set the parameter `output_enabled` to True for \"laser on\" and False for \"laser off\". Note that the laser will only turn on if the safety switch is also on."
   ]
  },
  {
   "cell_type": "code",
   "execution_count": null,
   "id": "manual-traveler",
   "metadata": {},
   "outputs": [],
   "source": [
    "laser.output_enabled.set(True) # laser turns on"
   ]
  },
  {
   "cell_type": "code",
   "execution_count": null,
   "id": "round-there",
   "metadata": {},
   "outputs": [],
   "source": [
    "laser.output_enabled.set(False) # laser turns off"
   ]
  },
  {
   "cell_type": "code",
   "execution_count": null,
   "id": "brutal-screw",
   "metadata": {},
   "outputs": [],
   "source": [
    "laser.output_enabled.get() # Check laser output status"
   ]
  },
  {
   "cell_type": "markdown",
   "id": "favorite-sitting",
   "metadata": {},
   "source": [
    "## Setting the laser output power\n",
    "Set the laser output power in Watts and get the current power value from the device (also in Watts)"
   ]
  },
  {
   "cell_type": "code",
   "execution_count": 5,
   "id": "cardiac-lobby",
   "metadata": {},
   "outputs": [],
   "source": [
    "laser.power.set(1e-3) # Set power to 1 mW"
   ]
  },
  {
   "cell_type": "code",
   "execution_count": null,
   "id": "technical-grounds",
   "metadata": {},
   "outputs": [],
   "source": [
    "laser.power.get() # Gets laser power reading"
   ]
  },
  {
   "cell_type": "markdown",
   "id": "promotional-address",
   "metadata": {},
   "source": [
    "## Disconnecting\n",
    "Disconnect the device from the driver (but not the server, it still shows under `device_list`), stopping polling and closing the device (both for Kinesis server and qcodes)."
   ]
  },
  {
   "cell_type": "code",
   "execution_count": 6,
   "id": "accepted-introduction",
   "metadata": {},
   "outputs": [],
   "source": [
    "laser.close()"
   ]
  }
 ],
 "metadata": {
  "kernelspec": {
   "display_name": "Python (qcodes)",
   "language": "python",
   "name": "qcodes"
  },
  "language_info": {
   "codemirror_mode": {
    "name": "ipython",
    "version": 3
   },
   "file_extension": ".py",
   "mimetype": "text/x-python",
   "name": "python",
   "nbconvert_exporter": "python",
   "pygments_lexer": "ipython3",
   "version": "3.11.4"
  }
 },
 "nbformat": 4,
 "nbformat_minor": 5
}
