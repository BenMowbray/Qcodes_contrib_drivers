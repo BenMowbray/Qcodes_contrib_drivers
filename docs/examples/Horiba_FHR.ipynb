{
 "cells": [
  {
   "cell_type": "markdown",
   "id": "a657526c",
   "metadata": {},
   "source": [
    "This driver has been tested with a FHR1000 spectrometer with one dual grating turret, an entrance slit, exit slit, and an exit slit selection mirror.\n",
    "\n",
    "The dll unfortunately does not have any version information. It was shipped with LabSpec 6.5.1. The supporting information is contained in a word document called `SpeControl_dll.docx`."
   ]
  },
  {
   "cell_type": "code",
   "execution_count": 1,
   "id": "17976519-ee58-4afc-89ee-23d8475a3d14",
   "metadata": {
    "scrolled": true,
    "tags": []
   },
   "outputs": [
    {
     "name": "stdout",
     "output_type": "stream",
     "text": [
      "Logging hadn't been started.\n",
      "Activating auto-logging. Current session state plus future input saved.\n",
      "Filename       : C:\\Users\\Flash\\.qcodes\\logs\\command_history.log\n",
      "Mode           : append\n",
      "Output logging : True\n",
      "Raw input log  : False\n",
      "Timestamping   : True\n",
      "State          : active\n",
      "Qcodes Logfile : C:\\Users\\Flash\\.qcodes\\logs\\230718-6464-qcodes.log\n"
     ]
    }
   ],
   "source": [
    "from qcodes_contrib_drivers.drivers.Horiba.Horiba_FHR import HoribaFHR"
   ]
  },
  {
   "cell_type": "code",
   "execution_count": 2,
   "id": "778427c9-5732-4b04-bc14-6205f2314e04",
   "metadata": {
    "tags": []
   },
   "outputs": [],
   "source": [
    "dll_dir = r'C:\\HORIBA\\Software\\SDK FHR Express'\n",
    "spe = HoribaFHR(\n",
    "    'spe', \n",
    "    port=13, \n",
    "    dll_dir=dll_dir,\n",
    "    # This could be more sophisticated, like parsing an ini file ...\n",
    "    grating_addrs=[5, 9],\n",
    "    grating_kwargs=[\n",
    "        {'label': '1800 gr/mm Grating',\n",
    "         'min_value': 50e3,\n",
    "         'max_value': 750e3,\n",
    "         'coefficient_of_linearity': 1.000069196},\n",
    "        {'label': '600 gr/mm Grating',\n",
    "         'min_value': 50e3,\n",
    "         'max_value': 2000e3,\n",
    "         'coefficient_of_linearity': 0.999935906}\n",
    "    ],\n",
    "    slit_addrs=[1, 4],\n",
    "    slit_kwargs=[\n",
    "        {'label': 'Front entrance slit',\n",
    "         'min_value': 750,\n",
    "         'max_value': 2750},\n",
    "        {'label': 'Side exit slit',\n",
    "         'min_value': 700,\n",
    "         'max_value': 2700}\n",
    "    ],\n",
    "    dc_addrs=[7],\n",
    "    dc_kwargs=[\n",
    "        {'label': 'Mirror',\n",
    "         'val_mapping': {'front': 0, 'side': 1}}\n",
    "    ]\n",
    ")\n",
    "spe.port.set_timeout(30000)"
   ]
  },
  {
   "cell_type": "markdown",
   "id": "6b93170e-1805-48cf-b87a-af40c863ee5e",
   "metadata": {},
   "source": [
    "Following the 'manual' (`SpeControl_dll.docx` in the dll directory), the typical workflow would be to \n",
    "1. Set the grating ID\n",
    "2. Initialize the grating\n",
    "3. Setup the grating\n",
    "4. Initialize the grating motor\n",
    "5. Go to a given position\n",
    "\n",
    "The instrument constructor already takes care of opening a connection and setting the correct baud rate."
   ]
  },
  {
   "cell_type": "code",
   "execution_count": 3,
   "id": "1b35c2f5-d206-4958-97d4-351bb2944759",
   "metadata": {
    "tags": []
   },
   "outputs": [],
   "source": [
    "grating_1800, grating_800 = spe.gratings\n",
    "\n",
    "grating_1800.set_setup(min_speed=500, max_speed=280000, ramp=400, backlash=0, step=2, reverse=False)\n",
    "# The help file doesn't say what specifically each phase does, so I assume they \n",
    "# are used for different driving levels of coarseness\n",
    "grating_1800.set_ini_params(phase=1, min_speed=500, max_speed=280000, ramp=400)\n",
    "grating_1800.set_ini_params(phase=2, min_speed=500, max_speed=13000, ramp=100)\n",
    "grating_1800.set_ini_params(phase=3, min_speed=50, max_speed=600, ramp=50)\n",
    "# Uncomment to actually initialize to zero-order\n",
    "# grating_1800.init(54940)\n",
    "\n",
    "grating_800.set_setup(min_speed=500, max_speed=280000, ramp=400, backlash=0, step=2, reverse=False)\n",
    "grating_800.set_ini_params(phase=1, min_speed=500, max_speed=280000, ramp=400)\n",
    "grating_800.set_ini_params(phase=2, min_speed=500, max_speed=13000, ramp=100)\n",
    "grating_800.set_ini_params(phase=3, min_speed=50, max_speed=600, ramp=50)\n",
    "# Uncomment to actually initialize to zero-order\n",
    "# grating_800.init(2554965)"
   ]
  },
  {
   "cell_type": "markdown",
   "id": "1fdd4376",
   "metadata": {},
   "source": [
    "The slits are dealt with similarly, except they don't have different phases. \n",
    "\n",
    "According to the help file, they should allow for a step different from 1 (i.e., a pm unit instead of motor steps), but my device keeps running into timeout errors when I do so. The `init()` method hence initializes the slit to the completely closed state, and the values that `position.get()`/`position.set()` return or take are motor steps. In this particular case, the `slit_entrance.position(1000)` opens the front entrance slit by 250 motor steps, and `slit_entrance.position(1250)` by double that."
   ]
  },
  {
   "cell_type": "code",
   "execution_count": 4,
   "id": "3ac4044e-3f02-4c29-83a6-9d9c1bc2b462",
   "metadata": {
    "tags": []
   },
   "outputs": [],
   "source": [
    "slit_entrance, slit_exit = spe.slits\n",
    "\n",
    "slit_entrance.set_setup(min_speed=50, max_speed=500, ramp=150, backlash=0, step=1, reverse=True)\n",
    "# Uncomment to actually initialize to completely close\n",
    "# slit_entrance.init(750)\n",
    "\n",
    "slit_exit.set_setup(min_speed=50, max_speed=500, ramp=150, backlash=0, step=1, reverse=True)\n",
    "# Uncomment to actually initialize to completely close\n",
    "# slit_exit.init(700)"
   ]
  },
  {
   "cell_type": "markdown",
   "id": "678dc7ed",
   "metadata": {},
   "source": [
    "The DC motors only have a settable binary position."
   ]
  },
  {
   "cell_type": "code",
   "execution_count": 5,
   "id": "7a8342e0",
   "metadata": {
    "tags": []
   },
   "outputs": [],
   "source": [
    "mirror, = spe.dcs\n",
    "mirror.position('front')"
   ]
  },
  {
   "cell_type": "code",
   "execution_count": null,
   "id": "b7e9c864",
   "metadata": {
    "tags": []
   },
   "outputs": [],
   "source": [
    "grating_800.init(2554965)\n",
    "grating_800.position(800e3)  # pm\n",
    "grating_800.position()"
   ]
  },
  {
   "cell_type": "code",
   "execution_count": null,
   "id": "f0e808ba",
   "metadata": {
    "tags": []
   },
   "outputs": [],
   "source": [
    "slit_entrance.position(1000)\n",
    "slit_entrance.position()"
   ]
  },
  {
   "cell_type": "markdown",
   "id": "9e090f72",
   "metadata": {},
   "source": [
    "We can also set opening width, which corresponds to the position minus the zero-offset. If we hadn't initialized the entrance slit motor, we'd need to set the offset manually."
   ]
  },
  {
   "cell_type": "code",
   "execution_count": 8,
   "id": "1c498430",
   "metadata": {
    "tags": []
   },
   "outputs": [
    {
     "data": {
      "text/plain": [
       "250"
      ]
     },
     "execution_count": 8,
     "metadata": {},
     "output_type": "execute_result"
    }
   ],
   "source": [
    "slit_entrance.offset = 750\n",
    "slit_entrance.width(250)\n",
    "slit_entrance.width()"
   ]
  },
  {
   "cell_type": "code",
   "execution_count": 9,
   "id": "0798cf6b",
   "metadata": {
    "tags": []
   },
   "outputs": [],
   "source": [
    "spe.close()"
   ]
  }
 ],
 "metadata": {
  "kernelspec": {
   "display_name": "Python 3 (ipykernel)",
   "language": "python",
   "name": "python3"
  },
  "language_info": {
   "codemirror_mode": {
    "name": "ipython",
    "version": 3
   },
   "file_extension": ".py",
   "mimetype": "text/x-python",
   "name": "python",
   "nbconvert_exporter": "python",
   "pygments_lexer": "ipython3",
   "version": "3.10.9"
  },
  "toc-autonumbering": true,
  "toc-showcode": false,
  "toc-showmarkdowntxt": true
 },
 "nbformat": 4,
 "nbformat_minor": 5
}
